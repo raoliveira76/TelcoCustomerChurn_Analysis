{
 "cells": [
  {
   "cell_type": "markdown",
   "metadata": {},
   "source": [
    "# PROJECT #2 - CLASSIFICATION"
   ]
  },
  {
   "cell_type": "markdown",
   "metadata": {},
   "source": [
    "## Step 1 - Importing the dataset"
   ]
  },
  {
   "cell_type": "code",
   "execution_count": 1,
   "metadata": {},
   "outputs": [
    {
     "data": {
      "text/html": [
       "<div>\n",
       "<style scoped>\n",
       "    .dataframe tbody tr th:only-of-type {\n",
       "        vertical-align: middle;\n",
       "    }\n",
       "\n",
       "    .dataframe tbody tr th {\n",
       "        vertical-align: top;\n",
       "    }\n",
       "\n",
       "    .dataframe thead th {\n",
       "        text-align: right;\n",
       "    }\n",
       "</style>\n",
       "<table border=\"1\" class=\"dataframe\">\n",
       "  <thead>\n",
       "    <tr style=\"text-align: right;\">\n",
       "      <th></th>\n",
       "      <th>customerID</th>\n",
       "      <th>gender</th>\n",
       "      <th>SeniorCitizen</th>\n",
       "      <th>Dependents</th>\n",
       "      <th>tenure</th>\n",
       "      <th>PhoneService</th>\n",
       "      <th>InternetService</th>\n",
       "      <th>DeviceProtection</th>\n",
       "      <th>TechSupport</th>\n",
       "      <th>CableService</th>\n",
       "      <th>Contract</th>\n",
       "      <th>PaperlessBilling</th>\n",
       "      <th>PaymentMethod</th>\n",
       "      <th>MonthlyCharges</th>\n",
       "      <th>TotalCharges</th>\n",
       "      <th>Churn</th>\n",
       "    </tr>\n",
       "  </thead>\n",
       "  <tbody>\n",
       "    <tr>\n",
       "      <th>0</th>\n",
       "      <td>7590-VHVEG</td>\n",
       "      <td>Female</td>\n",
       "      <td>0</td>\n",
       "      <td>No</td>\n",
       "      <td>1</td>\n",
       "      <td>No</td>\n",
       "      <td>Yes</td>\n",
       "      <td>No</td>\n",
       "      <td>No</td>\n",
       "      <td>No</td>\n",
       "      <td>Month-to-month</td>\n",
       "      <td>Yes</td>\n",
       "      <td>Electronic check</td>\n",
       "      <td>29.85</td>\n",
       "      <td>29.85</td>\n",
       "      <td>No</td>\n",
       "    </tr>\n",
       "    <tr>\n",
       "      <th>1</th>\n",
       "      <td>5575-GNVDE</td>\n",
       "      <td>Male</td>\n",
       "      <td>0</td>\n",
       "      <td>No</td>\n",
       "      <td>34</td>\n",
       "      <td>Yes</td>\n",
       "      <td>Yes</td>\n",
       "      <td>Yes</td>\n",
       "      <td>No</td>\n",
       "      <td>No</td>\n",
       "      <td>One year</td>\n",
       "      <td>No</td>\n",
       "      <td>Mailed check</td>\n",
       "      <td>56.95</td>\n",
       "      <td>1889.5</td>\n",
       "      <td>No</td>\n",
       "    </tr>\n",
       "    <tr>\n",
       "      <th>2</th>\n",
       "      <td>3668-QPYBK</td>\n",
       "      <td>Male</td>\n",
       "      <td>0</td>\n",
       "      <td>No</td>\n",
       "      <td>2</td>\n",
       "      <td>Yes</td>\n",
       "      <td>Yes</td>\n",
       "      <td>No</td>\n",
       "      <td>No</td>\n",
       "      <td>No</td>\n",
       "      <td>Month-to-month</td>\n",
       "      <td>Yes</td>\n",
       "      <td>Mailed check</td>\n",
       "      <td>53.85</td>\n",
       "      <td>108.15</td>\n",
       "      <td>Yes</td>\n",
       "    </tr>\n",
       "    <tr>\n",
       "      <th>3</th>\n",
       "      <td>7795-CFOCW</td>\n",
       "      <td>Male</td>\n",
       "      <td>0</td>\n",
       "      <td>No</td>\n",
       "      <td>45</td>\n",
       "      <td>No</td>\n",
       "      <td>Yes</td>\n",
       "      <td>Yes</td>\n",
       "      <td>Yes</td>\n",
       "      <td>No</td>\n",
       "      <td>One year</td>\n",
       "      <td>No</td>\n",
       "      <td>Bank transfer (automatic)</td>\n",
       "      <td>42.30</td>\n",
       "      <td>1840.75</td>\n",
       "      <td>No</td>\n",
       "    </tr>\n",
       "    <tr>\n",
       "      <th>4</th>\n",
       "      <td>9237-HQITU</td>\n",
       "      <td>Female</td>\n",
       "      <td>0</td>\n",
       "      <td>No</td>\n",
       "      <td>2</td>\n",
       "      <td>Yes</td>\n",
       "      <td>Yes</td>\n",
       "      <td>No</td>\n",
       "      <td>No</td>\n",
       "      <td>No</td>\n",
       "      <td>Month-to-month</td>\n",
       "      <td>Yes</td>\n",
       "      <td>Electronic check</td>\n",
       "      <td>70.70</td>\n",
       "      <td>151.65</td>\n",
       "      <td>Yes</td>\n",
       "    </tr>\n",
       "  </tbody>\n",
       "</table>\n",
       "</div>"
      ],
      "text/plain": [
       "   customerID  gender  SeniorCitizen Dependents  tenure PhoneService  \\\n",
       "0  7590-VHVEG  Female              0         No       1           No   \n",
       "1  5575-GNVDE    Male              0         No      34          Yes   \n",
       "2  3668-QPYBK    Male              0         No       2          Yes   \n",
       "3  7795-CFOCW    Male              0         No      45           No   \n",
       "4  9237-HQITU  Female              0         No       2          Yes   \n",
       "\n",
       "  InternetService DeviceProtection TechSupport CableService        Contract  \\\n",
       "0             Yes               No          No           No  Month-to-month   \n",
       "1             Yes              Yes          No           No        One year   \n",
       "2             Yes               No          No           No  Month-to-month   \n",
       "3             Yes              Yes         Yes           No        One year   \n",
       "4             Yes               No          No           No  Month-to-month   \n",
       "\n",
       "  PaperlessBilling              PaymentMethod  MonthlyCharges TotalCharges  \\\n",
       "0              Yes           Electronic check           29.85        29.85   \n",
       "1               No               Mailed check           56.95       1889.5   \n",
       "2              Yes               Mailed check           53.85       108.15   \n",
       "3               No  Bank transfer (automatic)           42.30      1840.75   \n",
       "4              Yes           Electronic check           70.70       151.65   \n",
       "\n",
       "  Churn  \n",
       "0    No  \n",
       "1    No  \n",
       "2   Yes  \n",
       "3    No  \n",
       "4   Yes  "
      ]
     },
     "execution_count": 1,
     "metadata": {},
     "output_type": "execute_result"
    }
   ],
   "source": [
    "import pandas as pd\n",
    "df_orig = pd.read_csv('Telco_Customer_Churn.csv')\n",
    "\n",
    "df_orig.head()"
   ]
  },
  {
   "cell_type": "markdown",
   "metadata": {},
   "source": [
    "## Step 2 - Perfoming the preprocessing"
   ]
  },
  {
   "cell_type": "code",
   "execution_count": 2,
   "metadata": {},
   "outputs": [],
   "source": [
    "# dropping 'CustomerID' column\n",
    "df_clean = df_orig.drop(axis=0, columns=['customerID']) "
   ]
  },
  {
   "cell_type": "code",
   "execution_count": 3,
   "metadata": {},
   "outputs": [
    {
     "data": {
      "text/plain": [
       "gender               object\n",
       "SeniorCitizen         int64\n",
       "Dependents           object\n",
       "tenure                int64\n",
       "PhoneService         object\n",
       "InternetService      object\n",
       "DeviceProtection     object\n",
       "TechSupport          object\n",
       "CableService         object\n",
       "Contract             object\n",
       "PaperlessBilling     object\n",
       "PaymentMethod        object\n",
       "MonthlyCharges      float64\n",
       "TotalCharges         object\n",
       "Churn                object\n",
       "dtype: object"
      ]
     },
     "execution_count": 3,
     "metadata": {},
     "output_type": "execute_result"
    }
   ],
   "source": [
    "df_clean.dtypes"
   ]
  },
  {
   "cell_type": "code",
   "execution_count": 4,
   "metadata": {},
   "outputs": [],
   "source": [
    "# converting string to number of 'TotalCharges' column\n",
    "df_clean['TotalCharges'] = df_clean['TotalCharges'].replace({' ': ''}, regex=True)\n",
    "df_clean['TotalCharges'] = pd.to_numeric(df_clean['TotalCharges'], downcast='float')"
   ]
  },
  {
   "cell_type": "code",
   "execution_count": 5,
   "metadata": {},
   "outputs": [
    {
     "data": {
      "text/plain": [
       "gender               object\n",
       "SeniorCitizen         int64\n",
       "Dependents           object\n",
       "tenure                int64\n",
       "PhoneService         object\n",
       "InternetService      object\n",
       "DeviceProtection     object\n",
       "TechSupport          object\n",
       "CableService         object\n",
       "Contract             object\n",
       "PaperlessBilling     object\n",
       "PaymentMethod        object\n",
       "MonthlyCharges      float64\n",
       "TotalCharges        float32\n",
       "Churn                object\n",
       "dtype: object"
      ]
     },
     "execution_count": 5,
     "metadata": {},
     "output_type": "execute_result"
    }
   ],
   "source": [
    "df_clean.dtypes"
   ]
  },
  {
   "cell_type": "code",
   "execution_count": 6,
   "metadata": {},
   "outputs": [
    {
     "data": {
      "text/plain": [
       "gender               0\n",
       "SeniorCitizen        0\n",
       "Dependents           0\n",
       "tenure               0\n",
       "PhoneService         0\n",
       "InternetService      0\n",
       "DeviceProtection     0\n",
       "TechSupport          0\n",
       "CableService         0\n",
       "Contract             0\n",
       "PaperlessBilling     0\n",
       "PaymentMethod        0\n",
       "MonthlyCharges       0\n",
       "TotalCharges        11\n",
       "Churn                0\n",
       "dtype: int64"
      ]
     },
     "execution_count": 6,
     "metadata": {},
     "output_type": "execute_result"
    }
   ],
   "source": [
    "# verifying the total of null values\n",
    "df_clean.isnull().sum()"
   ]
  },
  {
   "cell_type": "code",
   "execution_count": 7,
   "metadata": {},
   "outputs": [],
   "source": [
    "# dropping null values\n",
    "df_clean.dropna(inplace=True)"
   ]
  },
  {
   "cell_type": "code",
   "execution_count": 8,
   "metadata": {},
   "outputs": [
    {
     "data": {
      "text/plain": [
       "gender              0\n",
       "SeniorCitizen       0\n",
       "Dependents          0\n",
       "tenure              0\n",
       "PhoneService        0\n",
       "InternetService     0\n",
       "DeviceProtection    0\n",
       "TechSupport         0\n",
       "CableService        0\n",
       "Contract            0\n",
       "PaperlessBilling    0\n",
       "PaymentMethod       0\n",
       "MonthlyCharges      0\n",
       "TotalCharges        0\n",
       "Churn               0\n",
       "dtype: int64"
      ]
     },
     "execution_count": 8,
     "metadata": {},
     "output_type": "execute_result"
    }
   ],
   "source": [
    "df_clean.isnull().sum()"
   ]
  },
  {
   "cell_type": "code",
   "execution_count": 9,
   "metadata": {},
   "outputs": [
    {
     "data": {
      "text/plain": [
       "(7032, 15)"
      ]
     },
     "execution_count": 9,
     "metadata": {},
     "output_type": "execute_result"
    }
   ],
   "source": [
    "df_clean.shape"
   ]
  },
  {
   "cell_type": "code",
   "execution_count": 10,
   "metadata": {},
   "outputs": [],
   "source": [
    "# converting categorical variables to dummies\n",
    "df_full = pd.get_dummies(df_clean, drop_first=True)"
   ]
  },
  {
   "cell_type": "code",
   "execution_count": 11,
   "metadata": {},
   "outputs": [
    {
     "data": {
      "text/html": [
       "<div>\n",
       "<style scoped>\n",
       "    .dataframe tbody tr th:only-of-type {\n",
       "        vertical-align: middle;\n",
       "    }\n",
       "\n",
       "    .dataframe tbody tr th {\n",
       "        vertical-align: top;\n",
       "    }\n",
       "\n",
       "    .dataframe thead th {\n",
       "        text-align: right;\n",
       "    }\n",
       "</style>\n",
       "<table border=\"1\" class=\"dataframe\">\n",
       "  <thead>\n",
       "    <tr style=\"text-align: right;\">\n",
       "      <th></th>\n",
       "      <th>SeniorCitizen</th>\n",
       "      <th>tenure</th>\n",
       "      <th>MonthlyCharges</th>\n",
       "      <th>TotalCharges</th>\n",
       "      <th>gender_Male</th>\n",
       "      <th>Dependents_Yes</th>\n",
       "      <th>PhoneService_Yes</th>\n",
       "      <th>InternetService_Yes</th>\n",
       "      <th>DeviceProtection_Yes</th>\n",
       "      <th>TechSupport_Yes</th>\n",
       "      <th>CableService_Yes</th>\n",
       "      <th>Contract_One year</th>\n",
       "      <th>Contract_Two year</th>\n",
       "      <th>PaperlessBilling_Yes</th>\n",
       "      <th>PaymentMethod_Credit card (automatic)</th>\n",
       "      <th>PaymentMethod_Electronic check</th>\n",
       "      <th>PaymentMethod_Mailed check</th>\n",
       "      <th>Churn_Yes</th>\n",
       "    </tr>\n",
       "  </thead>\n",
       "  <tbody>\n",
       "    <tr>\n",
       "      <th>0</th>\n",
       "      <td>0</td>\n",
       "      <td>1</td>\n",
       "      <td>29.85</td>\n",
       "      <td>29.850000</td>\n",
       "      <td>0</td>\n",
       "      <td>0</td>\n",
       "      <td>0</td>\n",
       "      <td>1</td>\n",
       "      <td>0</td>\n",
       "      <td>0</td>\n",
       "      <td>0</td>\n",
       "      <td>0</td>\n",
       "      <td>0</td>\n",
       "      <td>1</td>\n",
       "      <td>0</td>\n",
       "      <td>1</td>\n",
       "      <td>0</td>\n",
       "      <td>0</td>\n",
       "    </tr>\n",
       "    <tr>\n",
       "      <th>1</th>\n",
       "      <td>0</td>\n",
       "      <td>34</td>\n",
       "      <td>56.95</td>\n",
       "      <td>1889.500000</td>\n",
       "      <td>1</td>\n",
       "      <td>0</td>\n",
       "      <td>1</td>\n",
       "      <td>1</td>\n",
       "      <td>1</td>\n",
       "      <td>0</td>\n",
       "      <td>0</td>\n",
       "      <td>1</td>\n",
       "      <td>0</td>\n",
       "      <td>0</td>\n",
       "      <td>0</td>\n",
       "      <td>0</td>\n",
       "      <td>1</td>\n",
       "      <td>0</td>\n",
       "    </tr>\n",
       "    <tr>\n",
       "      <th>2</th>\n",
       "      <td>0</td>\n",
       "      <td>2</td>\n",
       "      <td>53.85</td>\n",
       "      <td>108.150002</td>\n",
       "      <td>1</td>\n",
       "      <td>0</td>\n",
       "      <td>1</td>\n",
       "      <td>1</td>\n",
       "      <td>0</td>\n",
       "      <td>0</td>\n",
       "      <td>0</td>\n",
       "      <td>0</td>\n",
       "      <td>0</td>\n",
       "      <td>1</td>\n",
       "      <td>0</td>\n",
       "      <td>0</td>\n",
       "      <td>1</td>\n",
       "      <td>1</td>\n",
       "    </tr>\n",
       "    <tr>\n",
       "      <th>3</th>\n",
       "      <td>0</td>\n",
       "      <td>45</td>\n",
       "      <td>42.30</td>\n",
       "      <td>1840.750000</td>\n",
       "      <td>1</td>\n",
       "      <td>0</td>\n",
       "      <td>0</td>\n",
       "      <td>1</td>\n",
       "      <td>1</td>\n",
       "      <td>1</td>\n",
       "      <td>0</td>\n",
       "      <td>1</td>\n",
       "      <td>0</td>\n",
       "      <td>0</td>\n",
       "      <td>0</td>\n",
       "      <td>0</td>\n",
       "      <td>0</td>\n",
       "      <td>0</td>\n",
       "    </tr>\n",
       "    <tr>\n",
       "      <th>4</th>\n",
       "      <td>0</td>\n",
       "      <td>2</td>\n",
       "      <td>70.70</td>\n",
       "      <td>151.649994</td>\n",
       "      <td>0</td>\n",
       "      <td>0</td>\n",
       "      <td>1</td>\n",
       "      <td>1</td>\n",
       "      <td>0</td>\n",
       "      <td>0</td>\n",
       "      <td>0</td>\n",
       "      <td>0</td>\n",
       "      <td>0</td>\n",
       "      <td>1</td>\n",
       "      <td>0</td>\n",
       "      <td>1</td>\n",
       "      <td>0</td>\n",
       "      <td>1</td>\n",
       "    </tr>\n",
       "  </tbody>\n",
       "</table>\n",
       "</div>"
      ],
      "text/plain": [
       "   SeniorCitizen  tenure  MonthlyCharges  TotalCharges  gender_Male  \\\n",
       "0              0       1           29.85     29.850000            0   \n",
       "1              0      34           56.95   1889.500000            1   \n",
       "2              0       2           53.85    108.150002            1   \n",
       "3              0      45           42.30   1840.750000            1   \n",
       "4              0       2           70.70    151.649994            0   \n",
       "\n",
       "   Dependents_Yes  PhoneService_Yes  InternetService_Yes  \\\n",
       "0               0                 0                    1   \n",
       "1               0                 1                    1   \n",
       "2               0                 1                    1   \n",
       "3               0                 0                    1   \n",
       "4               0                 1                    1   \n",
       "\n",
       "   DeviceProtection_Yes  TechSupport_Yes  CableService_Yes  Contract_One year  \\\n",
       "0                     0                0                 0                  0   \n",
       "1                     1                0                 0                  1   \n",
       "2                     0                0                 0                  0   \n",
       "3                     1                1                 0                  1   \n",
       "4                     0                0                 0                  0   \n",
       "\n",
       "   Contract_Two year  PaperlessBilling_Yes  \\\n",
       "0                  0                     1   \n",
       "1                  0                     0   \n",
       "2                  0                     1   \n",
       "3                  0                     0   \n",
       "4                  0                     1   \n",
       "\n",
       "   PaymentMethod_Credit card (automatic)  PaymentMethod_Electronic check  \\\n",
       "0                                      0                               1   \n",
       "1                                      0                               0   \n",
       "2                                      0                               0   \n",
       "3                                      0                               0   \n",
       "4                                      0                               1   \n",
       "\n",
       "   PaymentMethod_Mailed check  Churn_Yes  \n",
       "0                           0          0  \n",
       "1                           1          0  \n",
       "2                           1          1  \n",
       "3                           0          0  \n",
       "4                           0          1  "
      ]
     },
     "execution_count": 11,
     "metadata": {},
     "output_type": "execute_result"
    }
   ],
   "source": [
    "df_full.head()"
   ]
  },
  {
   "cell_type": "code",
   "execution_count": 12,
   "metadata": {},
   "outputs": [
    {
     "data": {
      "text/plain": [
       "(7032, 18)"
      ]
     },
     "execution_count": 12,
     "metadata": {},
     "output_type": "execute_result"
    }
   ],
   "source": [
    "df_full.shape"
   ]
  },
  {
   "cell_type": "markdown",
   "metadata": {},
   "source": [
    "## Step 3 - Implementing the Logistic Regression using the full dataset"
   ]
  },
  {
   "cell_type": "code",
   "execution_count": 13,
   "metadata": {},
   "outputs": [
    {
     "name": "stdout",
     "output_type": "stream",
     "text": [
      "-----------------------------------------------------\n",
      "\n",
      "Logistic Regression Model Score (full dataset): 0.797\n",
      "\n",
      "-----------------------------------------------------\n"
     ]
    },
    {
     "name": "stderr",
     "output_type": "stream",
     "text": [
      "C:\\ProgramData\\Anaconda3\\lib\\site-packages\\sklearn\\linear_model\\logistic.py:433: FutureWarning: Default solver will be changed to 'lbfgs' in 0.22. Specify a solver to silence this warning.\n",
      "  FutureWarning)\n"
     ]
    }
   ],
   "source": [
    "from sklearn.linear_model import LogisticRegression\n",
    "from sklearn import metrics\n",
    "\n",
    "X = df_full.drop('Churn_Yes', axis=1)\n",
    "y = df_full['Churn_Yes'].copy()\n",
    "\n",
    "# variable to define the random state of the processing\n",
    "random_state = 42\n",
    "\n",
    "logreg = LogisticRegression(max_iter=10000, random_state=random_state)\n",
    "logreg.fit(X, y)\n",
    "\n",
    "# predicting using the own X\n",
    "y_pred = logreg.predict(X)\n",
    "print(\"-----------------------------------------------------\\n\")\n",
    "print(\"Logistic Regression Model Score (full dataset): %.3f\" % logreg.score(X, y))\n",
    "print(\"\\n-----------------------------------------------------\")"
   ]
  },
  {
   "cell_type": "code",
   "execution_count": 14,
   "metadata": {},
   "outputs": [
    {
     "data": {
      "text/plain": [
       "<matplotlib.axes._subplots.AxesSubplot at 0x22618b737f0>"
      ]
     },
     "execution_count": 14,
     "metadata": {},
     "output_type": "execute_result"
    },
    {
     "data": {
      "image/png": "[encoded data removed]",
      "text/plain": [
       "<Figure size 216x216 with 1 Axes>"
      ]
     },
     "metadata": {
      "needs_background": "light"
     },
     "output_type": "display_data"
    }
   ],
   "source": [
    "from sklearn.metrics import confusion_matrix\n",
    "import numpy as np\n",
    "import seaborn as sns\n",
    "import matplotlib.pyplot as plt\n",
    "%matplotlib inline\n",
    "\n",
    "# creating the Confusion Matrix\n",
    "cm_lr = pd.DataFrame(confusion_matrix(y, y_pred), columns=np.unique(y), index = np.unique(y))\n",
    "cm_lr.index.name = 'Actual'\n",
    "cm_lr.columns.name = 'Predicted'\n",
    "\n",
    "plt.figure(figsize = (3,3))\n",
    "sns.set(font_scale=1.2)\n",
    "\n",
    "sns.heatmap(cm_lr, annot=True, annot_kws={\"size\": 18}, cbar=False, vmax=650, square=True, fmt=\"d\", cmap=\"Greens\")"
   ]
  },
  {
   "cell_type": "code",
   "execution_count": 15,
   "metadata": {
    "scrolled": true
   },
   "outputs": [
    {
     "name": "stdout",
     "output_type": "stream",
     "text": [
      "----------------------------------------------------------\n",
      "Classification Report - Logistic Regression (full dataset)\n",
      "\n",
      "              precision    recall  f1-score   support\n",
      "\n",
      "           0       0.84      0.90      0.87      5163\n",
      "           1       0.65      0.51      0.57      1869\n",
      "\n",
      "   micro avg       0.80      0.80      0.80      7032\n",
      "   macro avg       0.74      0.71      0.72      7032\n",
      "weighted avg       0.79      0.80      0.79      7032\n",
      "\n"
     ]
    }
   ],
   "source": [
    "# creating the Classification Report\n",
    "from sklearn.metrics import classification_report\n",
    "\n",
    "print(\"----------------------------------------------------------\")\n",
    "print(\"Classification Report - Logistic Regression (full dataset)\\n\")\n",
    "print(classification_report(y, y_pred))"
   ]
  },
  {
   "cell_type": "code",
   "execution_count": 16,
   "metadata": {},
   "outputs": [
    {
     "data": {
      "image/png": "[encoded data removed]",
      "text/plain": [
       "<Figure size 432x288 with 1 Axes>"
      ]
     },
     "metadata": {
      "needs_background": "light"
     },
     "output_type": "display_data"
    }
   ],
   "source": [
    "from sklearn.metrics import roc_auc_score\n",
    "from sklearn.metrics import roc_curve\n",
    "\n",
    "# creating the ROC Curve (Receiver Operating Characteristic)\n",
    "fpr, tpr, thresholds = roc_curve(y, logreg.predict_proba(X)[:,1])\n",
    "\n",
    "plt.figure()\n",
    "plt.plot(fpr, tpr, label='Logistic Regression (area = %0.2f)' % roc_auc_score(y, y_pred))\n",
    "plt.plot([0, 1], [0, 1],'r-.')\n",
    "plt.xlim([0.0, 1.0])\n",
    "plt.ylim([0.0, 1.01])\n",
    "\n",
    "plt.title('ROC Curve')\n",
    "plt.xlabel('False Positive Rate')\n",
    "plt.ylabel('True Positive Rate')\n",
    "plt.legend(loc=\"lower right\")\n",
    "plt.savefig('LogReg_ROC')\n",
    "plt.show()"
   ]
  },
  {
   "cell_type": "code",
   "execution_count": 17,
   "metadata": {},
   "outputs": [
    {
     "data": {
      "text/html": [
       "<div>\n",
       "<style scoped>\n",
       "    .dataframe tbody tr th:only-of-type {\n",
       "        vertical-align: middle;\n",
       "    }\n",
       "\n",
       "    .dataframe tbody tr th {\n",
       "        vertical-align: top;\n",
       "    }\n",
       "\n",
       "    .dataframe thead th {\n",
       "        text-align: right;\n",
       "    }\n",
       "</style>\n",
       "<table border=\"1\" class=\"dataframe\">\n",
       "  <thead>\n",
       "    <tr style=\"text-align: right;\">\n",
       "      <th></th>\n",
       "      <th>Variables</th>\n",
       "      <th>Coefficients</th>\n",
       "      <th>Odds Ratio</th>\n",
       "    </tr>\n",
       "  </thead>\n",
       "  <tbody>\n",
       "    <tr>\n",
       "      <th>0</th>\n",
       "      <td>SeniorCitizen</td>\n",
       "      <td>0.289120</td>\n",
       "      <td>1.335252</td>\n",
       "    </tr>\n",
       "    <tr>\n",
       "      <th>1</th>\n",
       "      <td>tenure</td>\n",
       "      <td>-0.078535</td>\n",
       "      <td>0.924469</td>\n",
       "    </tr>\n",
       "    <tr>\n",
       "      <th>2</th>\n",
       "      <td>MonthlyCharges</td>\n",
       "      <td>0.015648</td>\n",
       "      <td>1.015771</td>\n",
       "    </tr>\n",
       "    <tr>\n",
       "      <th>3</th>\n",
       "      <td>TotalCharges</td>\n",
       "      <td>0.000406</td>\n",
       "      <td>1.000406</td>\n",
       "    </tr>\n",
       "    <tr>\n",
       "      <th>4</th>\n",
       "      <td>gender_Male</td>\n",
       "      <td>-0.155258</td>\n",
       "      <td>0.856194</td>\n",
       "    </tr>\n",
       "    <tr>\n",
       "      <th>5</th>\n",
       "      <td>Dependents_Yes</td>\n",
       "      <td>-0.305607</td>\n",
       "      <td>0.736676</td>\n",
       "    </tr>\n",
       "    <tr>\n",
       "      <th>6</th>\n",
       "      <td>PhoneService_Yes</td>\n",
       "      <td>-0.481387</td>\n",
       "      <td>0.617926</td>\n",
       "    </tr>\n",
       "    <tr>\n",
       "      <th>7</th>\n",
       "      <td>InternetService_Yes</td>\n",
       "      <td>0.074793</td>\n",
       "      <td>1.077661</td>\n",
       "    </tr>\n",
       "    <tr>\n",
       "      <th>8</th>\n",
       "      <td>DeviceProtection_Yes</td>\n",
       "      <td>-0.123173</td>\n",
       "      <td>0.884110</td>\n",
       "    </tr>\n",
       "    <tr>\n",
       "      <th>9</th>\n",
       "      <td>TechSupport_Yes</td>\n",
       "      <td>-0.435762</td>\n",
       "      <td>0.646771</td>\n",
       "    </tr>\n",
       "    <tr>\n",
       "      <th>10</th>\n",
       "      <td>CableService_Yes</td>\n",
       "      <td>0.079890</td>\n",
       "      <td>1.083168</td>\n",
       "    </tr>\n",
       "    <tr>\n",
       "      <th>11</th>\n",
       "      <td>Contract_One year</td>\n",
       "      <td>-0.264745</td>\n",
       "      <td>0.767402</td>\n",
       "    </tr>\n",
       "    <tr>\n",
       "      <th>12</th>\n",
       "      <td>Contract_Two year</td>\n",
       "      <td>-0.332027</td>\n",
       "      <td>0.717468</td>\n",
       "    </tr>\n",
       "    <tr>\n",
       "      <th>13</th>\n",
       "      <td>PaperlessBilling_Yes</td>\n",
       "      <td>0.293177</td>\n",
       "      <td>1.340680</td>\n",
       "    </tr>\n",
       "    <tr>\n",
       "      <th>14</th>\n",
       "      <td>PaymentMethod_Credit card (automatic)</td>\n",
       "      <td>-0.178528</td>\n",
       "      <td>0.836501</td>\n",
       "    </tr>\n",
       "    <tr>\n",
       "      <th>15</th>\n",
       "      <td>PaymentMethod_Electronic check</td>\n",
       "      <td>0.404295</td>\n",
       "      <td>1.498246</td>\n",
       "    </tr>\n",
       "    <tr>\n",
       "      <th>16</th>\n",
       "      <td>PaymentMethod_Mailed check</td>\n",
       "      <td>-0.456154</td>\n",
       "      <td>0.633716</td>\n",
       "    </tr>\n",
       "  </tbody>\n",
       "</table>\n",
       "</div>"
      ],
      "text/plain": [
       "                                Variables  Coefficients  Odds Ratio\n",
       "0                           SeniorCitizen      0.289120    1.335252\n",
       "1                                  tenure     -0.078535    0.924469\n",
       "2                          MonthlyCharges      0.015648    1.015771\n",
       "3                            TotalCharges      0.000406    1.000406\n",
       "4                             gender_Male     -0.155258    0.856194\n",
       "5                          Dependents_Yes     -0.305607    0.736676\n",
       "6                        PhoneService_Yes     -0.481387    0.617926\n",
       "7                     InternetService_Yes      0.074793    1.077661\n",
       "8                    DeviceProtection_Yes     -0.123173    0.884110\n",
       "9                         TechSupport_Yes     -0.435762    0.646771\n",
       "10                       CableService_Yes      0.079890    1.083168\n",
       "11                      Contract_One year     -0.264745    0.767402\n",
       "12                      Contract_Two year     -0.332027    0.717468\n",
       "13                   PaperlessBilling_Yes      0.293177    1.340680\n",
       "14  PaymentMethod_Credit card (automatic)     -0.178528    0.836501\n",
       "15         PaymentMethod_Electronic check      0.404295    1.498246\n",
       "16             PaymentMethod_Mailed check     -0.456154    0.633716"
      ]
     },
     "execution_count": 17,
     "metadata": {},
     "output_type": "execute_result"
    }
   ],
   "source": [
    "# getting the 'odds ratios' from the model\n",
    "pd.DataFrame(zip(X.columns, logreg.coef_[0], np.exp(logreg.coef_[0])),\n",
    "             columns=['Variables', 'Coefficients', 'Odds Ratio'])"
   ]
  },
  {
   "cell_type": "markdown",
   "metadata": {},
   "source": [
    "## Step 4 - Splitting the dataset"
   ]
  },
  {
   "cell_type": "code",
   "execution_count": 18,
   "metadata": {},
   "outputs": [
    {
     "data": {
      "text/html": [
       "<div>\n",
       "<style scoped>\n",
       "    .dataframe tbody tr th:only-of-type {\n",
       "        vertical-align: middle;\n",
       "    }\n",
       "\n",
       "    .dataframe tbody tr th {\n",
       "        vertical-align: top;\n",
       "    }\n",
       "\n",
       "    .dataframe thead th {\n",
       "        text-align: right;\n",
       "    }\n",
       "</style>\n",
       "<table border=\"1\" class=\"dataframe\">\n",
       "  <thead>\n",
       "    <tr style=\"text-align: right;\">\n",
       "      <th></th>\n",
       "      <th>SeniorCitizen</th>\n",
       "      <th>tenure</th>\n",
       "      <th>MonthlyCharges</th>\n",
       "      <th>TotalCharges</th>\n",
       "      <th>gender_Male</th>\n",
       "      <th>Dependents_Yes</th>\n",
       "      <th>PhoneService_Yes</th>\n",
       "      <th>InternetService_Yes</th>\n",
       "      <th>DeviceProtection_Yes</th>\n",
       "      <th>TechSupport_Yes</th>\n",
       "      <th>CableService_Yes</th>\n",
       "      <th>Contract_One year</th>\n",
       "      <th>Contract_Two year</th>\n",
       "      <th>PaperlessBilling_Yes</th>\n",
       "      <th>PaymentMethod_Credit card (automatic)</th>\n",
       "      <th>PaymentMethod_Electronic check</th>\n",
       "      <th>PaymentMethod_Mailed check</th>\n",
       "    </tr>\n",
       "  </thead>\n",
       "  <tbody>\n",
       "    <tr>\n",
       "      <th>3946</th>\n",
       "      <td>0</td>\n",
       "      <td>9</td>\n",
       "      <td>58.50</td>\n",
       "      <td>539.849976</td>\n",
       "      <td>0</td>\n",
       "      <td>0</td>\n",
       "      <td>0</td>\n",
       "      <td>1</td>\n",
       "      <td>1</td>\n",
       "      <td>1</td>\n",
       "      <td>1</td>\n",
       "      <td>0</td>\n",
       "      <td>0</td>\n",
       "      <td>0</td>\n",
       "      <td>0</td>\n",
       "      <td>0</td>\n",
       "      <td>1</td>\n",
       "    </tr>\n",
       "    <tr>\n",
       "      <th>3394</th>\n",
       "      <td>0</td>\n",
       "      <td>26</td>\n",
       "      <td>61.55</td>\n",
       "      <td>1581.949951</td>\n",
       "      <td>1</td>\n",
       "      <td>0</td>\n",
       "      <td>1</td>\n",
       "      <td>1</td>\n",
       "      <td>0</td>\n",
       "      <td>0</td>\n",
       "      <td>0</td>\n",
       "      <td>1</td>\n",
       "      <td>0</td>\n",
       "      <td>0</td>\n",
       "      <td>0</td>\n",
       "      <td>1</td>\n",
       "      <td>0</td>\n",
       "    </tr>\n",
       "    <tr>\n",
       "      <th>1635</th>\n",
       "      <td>0</td>\n",
       "      <td>3</td>\n",
       "      <td>69.95</td>\n",
       "      <td>220.449997</td>\n",
       "      <td>0</td>\n",
       "      <td>0</td>\n",
       "      <td>1</td>\n",
       "      <td>1</td>\n",
       "      <td>1</td>\n",
       "      <td>0</td>\n",
       "      <td>1</td>\n",
       "      <td>1</td>\n",
       "      <td>0</td>\n",
       "      <td>1</td>\n",
       "      <td>0</td>\n",
       "      <td>1</td>\n",
       "      <td>0</td>\n",
       "    </tr>\n",
       "    <tr>\n",
       "      <th>4088</th>\n",
       "      <td>0</td>\n",
       "      <td>7</td>\n",
       "      <td>73.60</td>\n",
       "      <td>520.000000</td>\n",
       "      <td>1</td>\n",
       "      <td>0</td>\n",
       "      <td>1</td>\n",
       "      <td>1</td>\n",
       "      <td>0</td>\n",
       "      <td>0</td>\n",
       "      <td>0</td>\n",
       "      <td>0</td>\n",
       "      <td>0</td>\n",
       "      <td>0</td>\n",
       "      <td>0</td>\n",
       "      <td>1</td>\n",
       "      <td>0</td>\n",
       "    </tr>\n",
       "    <tr>\n",
       "      <th>1886</th>\n",
       "      <td>0</td>\n",
       "      <td>67</td>\n",
       "      <td>60.40</td>\n",
       "      <td>3953.699951</td>\n",
       "      <td>1</td>\n",
       "      <td>1</td>\n",
       "      <td>1</td>\n",
       "      <td>1</td>\n",
       "      <td>1</td>\n",
       "      <td>1</td>\n",
       "      <td>0</td>\n",
       "      <td>0</td>\n",
       "      <td>1</td>\n",
       "      <td>1</td>\n",
       "      <td>0</td>\n",
       "      <td>0</td>\n",
       "      <td>0</td>\n",
       "    </tr>\n",
       "  </tbody>\n",
       "</table>\n",
       "</div>"
      ],
      "text/plain": [
       "      SeniorCitizen  tenure  MonthlyCharges  TotalCharges  gender_Male  \\\n",
       "3946              0       9           58.50    539.849976            0   \n",
       "3394              0      26           61.55   1581.949951            1   \n",
       "1635              0       3           69.95    220.449997            0   \n",
       "4088              0       7           73.60    520.000000            1   \n",
       "1886              0      67           60.40   3953.699951            1   \n",
       "\n",
       "      Dependents_Yes  PhoneService_Yes  InternetService_Yes  \\\n",
       "3946               0                 0                    1   \n",
       "3394               0                 1                    1   \n",
       "1635               0                 1                    1   \n",
       "4088               0                 1                    1   \n",
       "1886               1                 1                    1   \n",
       "\n",
       "      DeviceProtection_Yes  TechSupport_Yes  CableService_Yes  \\\n",
       "3946                     1                1                 1   \n",
       "3394                     0                0                 0   \n",
       "1635                     1                0                 1   \n",
       "4088                     0                0                 0   \n",
       "1886                     1                1                 0   \n",
       "\n",
       "      Contract_One year  Contract_Two year  PaperlessBilling_Yes  \\\n",
       "3946                  0                  0                     0   \n",
       "3394                  1                  0                     0   \n",
       "1635                  1                  0                     1   \n",
       "4088                  0                  0                     0   \n",
       "1886                  0                  1                     1   \n",
       "\n",
       "      PaymentMethod_Credit card (automatic)  PaymentMethod_Electronic check  \\\n",
       "3946                                      0                               0   \n",
       "3394                                      0                               1   \n",
       "1635                                      0                               1   \n",
       "4088                                      0                               1   \n",
       "1886                                      0                               0   \n",
       "\n",
       "      PaymentMethod_Mailed check  \n",
       "3946                           1  \n",
       "3394                           0  \n",
       "1635                           0  \n",
       "4088                           0  \n",
       "1886                           0  "
      ]
     },
     "execution_count": 18,
     "metadata": {},
     "output_type": "execute_result"
    }
   ],
   "source": [
    "from sklearn.model_selection import train_test_split\n",
    "\n",
    "X_train, X_test, y_train, y_test = train_test_split(X, y, test_size=0.3, random_state=random_state)\n",
    "X_train.head()"
   ]
  },
  {
   "cell_type": "markdown",
   "metadata": {},
   "source": [
    "## Step 5 - Using pipeline with some scikit-learn models"
   ]
  },
  {
   "cell_type": "code",
   "execution_count": 19,
   "metadata": {},
   "outputs": [
    {
     "name": "stderr",
     "output_type": "stream",
     "text": [
      "C:\\ProgramData\\Anaconda3\\lib\\site-packages\\dask\\config.py:168: YAMLLoadWarning: calling yaml.load() without Loader=... is deprecated, as the default Loader is unsafe. Please read https://msg.pyyaml.org/load for full details.\n",
      "  data = yaml.load(f.read()) or {}\n",
      "C:\\ProgramData\\Anaconda3\\lib\\site-packages\\distributed\\config.py:20: YAMLLoadWarning: calling yaml.load() without Loader=... is deprecated, as the default Loader is unsafe. Please read https://msg.pyyaml.org/load for full details.\n",
      "  defaults = yaml.load(f)\n"
     ]
    }
   ],
   "source": [
    "# Loading required libraries\n",
    "from sklearn.pipeline import Pipeline\n",
    "from sklearn.metrics import accuracy_score, log_loss\n",
    "\n",
    "from sklearn.neighbors import KNeighborsClassifier\n",
    "from sklearn.svm import SVC\n",
    "from sklearn.gaussian_process.kernels import RBF\n",
    "from sklearn.neural_network import MLPClassifier\n",
    "from sklearn.tree import DecisionTreeClassifier\n",
    "from sklearn.naive_bayes import GaussianNB\n",
    "from sklearn.ensemble import RandomForestClassifier, BaggingClassifier, AdaBoostClassifier\n",
    "from xgboost import XGBClassifier"
   ]
  },
  {
   "cell_type": "code",
   "execution_count": 20,
   "metadata": {},
   "outputs": [
    {
     "name": "stderr",
     "output_type": "stream",
     "text": [
      "C:\\ProgramData\\Anaconda3\\lib\\site-packages\\sklearn\\linear_model\\logistic.py:433: FutureWarning: Default solver will be changed to 'lbfgs' in 0.22. Specify a solver to silence this warning.\n",
      "  FutureWarning)\n"
     ]
    },
    {
     "name": "stdout",
     "output_type": "stream",
     "text": [
      "LogisticRegression(C=1.0, class_weight=None, dual=False, fit_intercept=True,\n",
      "          intercept_scaling=1, max_iter=100, multi_class='warn',\n",
      "          n_jobs=None, penalty='l2', random_state=42, solver='warn',\n",
      "          tol=0.0001, verbose=0, warm_start=False)\n",
      "model score: 0.791\n",
      "-----------------------------------------------------------------------------------\n",
      "\n",
      "KNeighborsClassifier(algorithm='auto', leaf_size=30, metric='minkowski',\n",
      "           metric_params=None, n_jobs=None, n_neighbors=2, p=2,\n",
      "           weights='uniform')\n",
      "model score: 0.759\n",
      "-----------------------------------------------------------------------------------\n",
      "\n",
      "SVC(C=0.025, cache_size=200, class_weight=None, coef0=0.0,\n",
      "  decision_function_shape='ovr', degree=3, gamma='auto_deprecated',\n",
      "  kernel='linear', max_iter=-1, probability=False, random_state=42,\n",
      "  shrinking=True, tol=0.001, verbose=False)\n",
      "model score: 0.788\n",
      "-----------------------------------------------------------------------------------\n",
      "\n",
      "SVC(C=1, cache_size=200, class_weight=None, coef0=0.0,\n",
      "  decision_function_shape='ovr', degree=3, gamma=2, kernel='rbf',\n",
      "  max_iter=-1, probability=False, random_state=42, shrinking=True,\n",
      "  tol=0.001, verbose=False)\n",
      "model score: 0.745\n",
      "-----------------------------------------------------------------------------------\n",
      "\n",
      "MLPClassifier(activation='relu', alpha=0.001, batch_size='auto', beta_1=0.9,\n",
      "       beta_2=0.999, early_stopping=False, epsilon=1e-08,\n",
      "       hidden_layer_sizes=(100,), learning_rate='adaptive',\n",
      "       learning_rate_init=0.001, max_iter=1000, momentum=0.9,\n",
      "       n_iter_no_change=10, nesterovs_momentum=True, power_t=0.5,\n",
      "       random_state=42, shuffle=True, solver='lbfgs', tol=0.0001,\n",
      "       validation_fraction=0.1, verbose=False, warm_start=False)\n",
      "model score: 0.787\n",
      "-----------------------------------------------------------------------------------\n",
      "\n",
      "DecisionTreeClassifier(class_weight=None, criterion='gini', max_depth=5,\n",
      "            max_features=None, max_leaf_nodes=None,\n",
      "            min_impurity_decrease=0.0, min_impurity_split=None,\n",
      "            min_samples_leaf=1, min_samples_split=2,\n",
      "            min_weight_fraction_leaf=0.0, presort=False, random_state=42,\n",
      "            splitter='best')\n",
      "model score: 0.779\n",
      "-----------------------------------------------------------------------------------\n",
      "\n",
      "GaussianNB(priors=None, var_smoothing=1e-09)\n",
      "model score: 0.735\n",
      "-----------------------------------------------------------------------------------\n",
      "\n",
      "RandomForestClassifier(bootstrap=True, class_weight=None, criterion='gini',\n",
      "            max_depth=10, max_features=5, max_leaf_nodes=None,\n",
      "            min_impurity_decrease=0.0, min_impurity_split=None,\n",
      "            min_samples_leaf=1, min_samples_split=2,\n",
      "            min_weight_fraction_leaf=0.0, n_estimators=80, n_jobs=None,\n",
      "            oob_score=False, random_state=42, verbose=0, warm_start=False)\n",
      "model score: 0.797\n",
      "-----------------------------------------------------------------------------------\n",
      "\n",
      "BaggingClassifier(base_estimator=None, bootstrap=True,\n",
      "         bootstrap_features=False, max_features=1.0, max_samples=1.0,\n",
      "         n_estimators=10, n_jobs=None, oob_score=False, random_state=42,\n",
      "         verbose=0, warm_start=False)\n",
      "model score: 0.765\n",
      "-----------------------------------------------------------------------------------\n",
      "\n",
      "AdaBoostClassifier(algorithm='SAMME.R', base_estimator=None,\n",
      "          learning_rate=1.0, n_estimators=50, random_state=42)\n",
      "model score: 0.789\n",
      "-----------------------------------------------------------------------------------\n",
      "\n",
      "XGBClassifier(base_score=0.5, booster='gbtree', colsample_bylevel=1,\n",
      "       colsample_bynode=1, colsample_bytree=1, gamma=0, gpu_id=-1,\n",
      "       importance_type='gain', interaction_constraints='',\n",
      "       learning_rate=0.300000012, max_delta_step=0, max_depth=6,\n",
      "       min_child_weight=1, missing=nan, monotone_constraints='()',\n",
      "       n_estimators=100, n_jobs=0, num_parallel_tree=1,\n",
      "       objective='binary:logistic', random_state=42, reg_alpha=0,\n",
      "       reg_lambda=1, scale_pos_weight=1, subsample=1, tree_method='exact',\n",
      "       validate_parameters=1, verbosity=None)\n",
      "model score: 0.781\n",
      "-----------------------------------------------------------------------------------\n",
      "\n"
     ]
    }
   ],
   "source": [
    "# naming the classifiers\n",
    "names = [\"Logistic Regression\", \"Nearest Neighbors\", \"Linear SVM\", \"RBF SVM\", \"Neural Net\", \n",
    "         \"Decision Tree\", \"Naive Bayes\", \"Random Forest\", \"Bagging\", \"AdaBoost\", \"XGBoost\"]\n",
    "\n",
    "# defining the variable to store the classificatin scores\n",
    "scores = []\n",
    "\n",
    "# defining the classifiers\n",
    "classifiers = [\n",
    "    LogisticRegression(random_state=random_state),\n",
    "    KNeighborsClassifier(2),\n",
    "    SVC(kernel=\"linear\", C=0.025, random_state=random_state),\n",
    "    SVC(gamma=2, C=1, random_state=random_state),\n",
    "    MLPClassifier(alpha=0.001, solver='lbfgs', learning_rate='adaptive', max_iter=1000, random_state=random_state),\n",
    "    DecisionTreeClassifier(max_depth=5, random_state=random_state),\n",
    "    GaussianNB(),\n",
    "    RandomForestClassifier(max_depth=10, n_estimators=80, max_features=5, random_state=random_state),\n",
    "    BaggingClassifier(random_state=random_state),\n",
    "    AdaBoostClassifier(random_state=random_state),\n",
    "    XGBClassifier(random_state=random_state)]\n",
    "\n",
    "# executing the pipeline\n",
    "for classifier in classifiers:\n",
    "    pipeline = Pipeline(steps=[\n",
    "                      ('classifier', classifier)])\n",
    "    pipeline.fit(X_train, y_train)   \n",
    "    print(classifier)\n",
    "    scores.append(pipeline.score(X_test, y_test))\n",
    "    print(\"model score: %.3f\" % pipeline.score(X_test, y_test))\n",
    "    print(\"-----------------------------------------------------------------------------------\\n\")\n",
    "    \n",
    "# creating a dataframe for prediction scores\n",
    "scores_df = pd.DataFrame(zip(names,scores), columns=['Classifier', 'Accuracy Score'])"
   ]
  },
  {
   "cell_type": "markdown",
   "metadata": {},
   "source": [
    "## Step 6 - Selecting the Best Model and Evaluating its performance"
   ]
  },
  {
   "cell_type": "code",
   "execution_count": 21,
   "metadata": {},
   "outputs": [
    {
     "data": {
      "text/html": [
       "<div>\n",
       "<style scoped>\n",
       "    .dataframe tbody tr th:only-of-type {\n",
       "        vertical-align: middle;\n",
       "    }\n",
       "\n",
       "    .dataframe tbody tr th {\n",
       "        vertical-align: top;\n",
       "    }\n",
       "\n",
       "    .dataframe thead th {\n",
       "        text-align: right;\n",
       "    }\n",
       "</style>\n",
       "<table border=\"1\" class=\"dataframe\">\n",
       "  <thead>\n",
       "    <tr style=\"text-align: right;\">\n",
       "      <th></th>\n",
       "      <th>Classifier</th>\n",
       "      <th>Accuracy Score</th>\n",
       "    </tr>\n",
       "  </thead>\n",
       "  <tbody>\n",
       "    <tr>\n",
       "      <th>7</th>\n",
       "      <td>Random Forest</td>\n",
       "      <td>0.796682</td>\n",
       "    </tr>\n",
       "    <tr>\n",
       "      <th>0</th>\n",
       "      <td>Logistic Regression</td>\n",
       "      <td>0.790521</td>\n",
       "    </tr>\n",
       "    <tr>\n",
       "      <th>9</th>\n",
       "      <td>AdaBoost</td>\n",
       "      <td>0.789100</td>\n",
       "    </tr>\n",
       "    <tr>\n",
       "      <th>2</th>\n",
       "      <td>Linear SVM</td>\n",
       "      <td>0.787678</td>\n",
       "    </tr>\n",
       "    <tr>\n",
       "      <th>4</th>\n",
       "      <td>Neural Net</td>\n",
       "      <td>0.787204</td>\n",
       "    </tr>\n",
       "    <tr>\n",
       "      <th>10</th>\n",
       "      <td>XGBoost</td>\n",
       "      <td>0.781043</td>\n",
       "    </tr>\n",
       "    <tr>\n",
       "      <th>5</th>\n",
       "      <td>Decision Tree</td>\n",
       "      <td>0.778673</td>\n",
       "    </tr>\n",
       "    <tr>\n",
       "      <th>8</th>\n",
       "      <td>Bagging</td>\n",
       "      <td>0.764929</td>\n",
       "    </tr>\n",
       "    <tr>\n",
       "      <th>1</th>\n",
       "      <td>Nearest Neighbors</td>\n",
       "      <td>0.759242</td>\n",
       "    </tr>\n",
       "    <tr>\n",
       "      <th>3</th>\n",
       "      <td>RBF SVM</td>\n",
       "      <td>0.745498</td>\n",
       "    </tr>\n",
       "    <tr>\n",
       "      <th>6</th>\n",
       "      <td>Naive Bayes</td>\n",
       "      <td>0.735071</td>\n",
       "    </tr>\n",
       "  </tbody>\n",
       "</table>\n",
       "</div>"
      ],
      "text/plain": [
       "             Classifier  Accuracy Score\n",
       "7         Random Forest        0.796682\n",
       "0   Logistic Regression        0.790521\n",
       "9              AdaBoost        0.789100\n",
       "2            Linear SVM        0.787678\n",
       "4            Neural Net        0.787204\n",
       "10              XGBoost        0.781043\n",
       "5         Decision Tree        0.778673\n",
       "8               Bagging        0.764929\n",
       "1     Nearest Neighbors        0.759242\n",
       "3               RBF SVM        0.745498\n",
       "6           Naive Bayes        0.735071"
      ]
     },
     "execution_count": 21,
     "metadata": {},
     "output_type": "execute_result"
    }
   ],
   "source": [
    "# ordering the scores to get the best model\n",
    "scores_df.sort_values(by='Accuracy Score', ascending=False)"
   ]
  },
  {
   "cell_type": "markdown",
   "metadata": {},
   "source": [
    "Based on the results from various models, the best model is **Random Forest**."
   ]
  },
  {
   "cell_type": "code",
   "execution_count": 22,
   "metadata": {},
   "outputs": [],
   "source": [
    "# recreating the best model with the defined parameters\n",
    "rf = RandomForestClassifier(max_depth=10, n_estimators=80, max_features=5, random_state=random_state)\n",
    "\n",
    "# training the model\n",
    "rf.fit(X_train, y_train)\n",
    "\n",
    "# predicting\n",
    "y_pred_rf = rf.predict(X_test)"
   ]
  },
  {
   "cell_type": "code",
   "execution_count": 23,
   "metadata": {},
   "outputs": [
    {
     "data": {
      "text/plain": [
       "<matplotlib.axes._subplots.AxesSubplot at 0x2261f67e7b8>"
      ]
     },
     "execution_count": 23,
     "metadata": {},
     "output_type": "execute_result"
    },
    {
     "data": {
      "image/png": "[encoded data removed]",
      "text/plain": [
       "<Figure size 216x216 with 1 Axes>"
      ]
     },
     "metadata": {
      "needs_background": "light"
     },
     "output_type": "display_data"
    }
   ],
   "source": [
    "# creating the Confusion Matrix\n",
    "cm_rf = pd.DataFrame(confusion_matrix(y_test, y_pred_rf), columns=np.unique(y_test), index = np.unique(y_test))\n",
    "cm_rf.index.name = 'Actual'\n",
    "cm_rf.columns.name = 'Predicted'\n",
    "plt.figure(figsize = (3,3))\n",
    "sns.set(font_scale=1.2)\n",
    "sns.heatmap(cm_rf, annot=True, annot_kws={\"size\": 18}, cbar=False, vmax=650, square=True, fmt=\"d\", cmap=\"Greens\")"
   ]
  },
  {
   "cell_type": "code",
   "execution_count": 24,
   "metadata": {},
   "outputs": [
    {
     "name": "stdout",
     "output_type": "stream",
     "text": [
      "-----------------------------------------------------\n",
      "Classification Report - Random Forest\n",
      "\n",
      "              precision    recall  f1-score   support\n",
      "\n",
      "           0       0.83      0.91      0.87      1549\n",
      "           1       0.66      0.50      0.56       561\n",
      "\n",
      "   micro avg       0.80      0.80      0.80      2110\n",
      "   macro avg       0.74      0.70      0.72      2110\n",
      "weighted avg       0.79      0.80      0.79      2110\n",
      "\n"
     ]
    }
   ],
   "source": [
    "print(\"-----------------------------------------------------\")\n",
    "print(\"Classification Report - Random Forest\\n\")\n",
    "print(classification_report(y_test, y_pred_rf))"
   ]
  },
  {
   "cell_type": "code",
   "execution_count": 25,
   "metadata": {},
   "outputs": [
    {
     "data": {
      "image/png": "[encoded data removed]",
      "text/plain": [
       "<Figure size 432x288 with 1 Axes>"
      ]
     },
     "metadata": {},
     "output_type": "display_data"
    }
   ],
   "source": [
    "# creating the ROC Curve (Receiver Operating Characteristic)\n",
    "fpr, tpr, thresholds = roc_curve(y_test, rf.predict_proba(X_test)[:,1])\n",
    "\n",
    "plt.figure()\n",
    "plt.plot(fpr, tpr, label='Random Forest (area = %0.2f)' % roc_auc_score(y_test, y_pred_rf))\n",
    "plt.plot([0, 1], [0, 1],'r-.')\n",
    "plt.xlim([0.0, 1.0])\n",
    "plt.ylim([0.0, 1.01])\n",
    "\n",
    "plt.title('ROC Curve')\n",
    "plt.xlabel('False Positive Rate')\n",
    "plt.ylabel('True Positive Rate')\n",
    "plt.legend(loc=\"lower right\")\n",
    "plt.savefig('RF_ROC')\n",
    "plt.show()"
   ]
  },
  {
   "cell_type": "markdown",
   "metadata": {},
   "source": [
    "## Step 7 and 8 - Predicting the class and probability of specific customer"
   ]
  },
  {
   "cell_type": "markdown",
   "metadata": {},
   "source": [
    "**Customer Profile:**\n",
    "- 'SeniorCitizen' = 0\n",
    "- 'tenure'= 32\n",
    "- 'MonthlyCharges' = 64.75\n",
    "- 'TotalCharges' = 2,283.30\n",
    "- 'gender_Male' = yes\n",
    "- 'Dependents_Yes' = no\n",
    "- 'PhoneService_Yes' = yes\n",
    "- 'InternetService_Yes' = yes\n",
    "- 'DeviceProtection_Yes' = no\n",
    "- 'TechSupport_Yes' = no\n",
    "- 'CableService_Yes' = yes\n",
    "- 'Contract_One year' = no\n",
    "- 'Contract_Two year' = no\n",
    "- 'PaperlessBilling_Yes' = yes\n",
    "- 'PaymentMethod_Credit card (automatic)' = yes\n",
    "- 'PaymentMethod_Electronic check' = no\n",
    "- 'PaymentMethod_Mailed check' =  no"
   ]
  },
  {
   "cell_type": "code",
   "execution_count": 26,
   "metadata": {},
   "outputs": [],
   "source": [
    "# customer profile\n",
    "customer = [[0, 32, 64.75, 2283.30, 1, 0, 1, 1, 0, 0, 1, 0, 0, 1, 1, 0, 0]]"
   ]
  },
  {
   "cell_type": "code",
   "execution_count": 27,
   "metadata": {},
   "outputs": [
    {
     "name": "stdout",
     "output_type": "stream",
     "text": [
      "-----------------------------------------------------------------------------\n",
      "Predicted Class using Random Forest is 'No Churn' with a probability of 0.843\n",
      "-----------------------------------------------------------------------------\n"
     ]
    }
   ],
   "source": [
    "# predicting the class\n",
    "cust_pred_rf = rf.predict(customer)[0]\n",
    "# predicting the probability\n",
    "cust_prob_rf = rf.predict_proba(customer)\n",
    "\n",
    "print(\"-----------------------------------------------------------------------------\")\n",
    "\n",
    "if cust_pred_rf == 0:\n",
    "    print(\"Predicted Class using Random Forest is 'No Churn' with a probability of %.3f\" % cust_prob_rf[0][0])\n",
    "else:\n",
    "    print(\"Predicted Class using Random Forest is 'Churn' with a probability of %.3f\" % cust_prob_rf[0][1])\n",
    "\n",
    "print(\"-----------------------------------------------------------------------------\")"
   ]
  },
  {
   "cell_type": "code",
   "execution_count": null,
   "metadata": {},
   "outputs": [],
   "source": []
  }
 ],
 "metadata": {
  "kernelspec": {
   "display_name": "Python 3",
   "language": "python",
   "name": "python3"
  },
  "language_info": {
   "codemirror_mode": {
    "name": "ipython",
    "version": 3
   },
   "file_extension": ".py",
   "mimetype": "text/x-python",
   "name": "python",
   "nbconvert_exporter": "python",
   "pygments_lexer": "ipython3",
   "version": "3.7.3"
  }
 },
 "nbformat": 4,
 "nbformat_minor": 4
}
